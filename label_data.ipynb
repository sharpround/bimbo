{
 "cells": [
  {
   "cell_type": "code",
   "execution_count": 1,
   "metadata": {},
   "outputs": [],
   "source": [
    "%reload_ext autoreload\n",
    "%autoreload 2\n",
    "%matplotlib inline"
   ]
  },
  {
   "cell_type": "code",
   "execution_count": 2,
   "metadata": {},
   "outputs": [],
   "source": [
    "from fastai.basics import *\n",
    "from sklearn import preprocessing"
   ]
  },
  {
   "cell_type": "code",
   "execution_count": 3,
   "metadata": {},
   "outputs": [],
   "source": [
    "data_path = Path(\"/home/jupyter/data/bimbo\")\n",
    "os.makedirs('tmp', exist_ok=True)"
   ]
  },
  {
   "cell_type": "code",
   "execution_count": 4,
   "metadata": {},
   "outputs": [
    {
     "data": {
      "text/plain": [
       "[PosixPath('/home/jupyter/data/bimbo/test.csv'),\n",
       " PosixPath('/home/jupyter/data/bimbo/zips'),\n",
       " PosixPath('/home/jupyter/data/bimbo/producto_tabla.csv'),\n",
       " PosixPath('/home/jupyter/data/bimbo/cliente_tabla.csv'),\n",
       " PosixPath('/home/jupyter/data/bimbo/nn-200-100'),\n",
       " PosixPath('/home/jupyter/data/bimbo/models'),\n",
       " PosixPath('/home/jupyter/data/bimbo/sample_submission.csv'),\n",
       " PosixPath('/home/jupyter/data/bimbo/town_state.csv'),\n",
       " PosixPath('/home/jupyter/data/bimbo/tmp'),\n",
       " PosixPath('/home/jupyter/data/bimbo/train.csv')]"
      ]
     },
     "execution_count": 4,
     "metadata": {},
     "output_type": "execute_result"
    }
   ],
   "source": [
    "data_path.ls()"
   ]
  },
  {
   "cell_type": "code",
   "execution_count": 5,
   "metadata": {},
   "outputs": [],
   "source": [
    "df_geo = pd.read_csv(data_path/'town_state.csv')\n",
    "df_client = pd.read_csv(data_path/'cliente_tabla.csv')\n",
    "df_product = pd.read_csv(data_path/'producto_tabla.csv')"
   ]
  },
  {
   "cell_type": "code",
   "execution_count": 6,
   "metadata": {},
   "outputs": [],
   "source": [
    "le_g = preprocessing.LabelEncoder()\n",
    "df_geo['Town_State'] = df_geo['Town'] + ', ' + df_geo['State']\n",
    "df_geo['geo_lbl'] = le_g.fit_transform(df_geo['Town_State'])\n",
    "df_geo.drop_duplicates(inplace=True)\n",
    "df_geo.to_parquet('tmp/geo_map.parquet')"
   ]
  },
  {
   "cell_type": "code",
   "execution_count": 7,
   "metadata": {},
   "outputs": [],
   "source": [
    "le_c = preprocessing.LabelEncoder()\n",
    "df_client['client_lbl'] = le_c.fit_transform(df_client['NombreCliente'])\n",
    "df_client.drop_duplicates(inplace=True)\n",
    "df_client.to_parquet('tmp/client_map.parquet')"
   ]
  },
  {
   "cell_type": "code",
   "execution_count": 8,
   "metadata": {},
   "outputs": [],
   "source": [
    "le_p = preprocessing.LabelEncoder()\n",
    "df_product['product_lbl'] = le_p.fit_transform(df_product['NombreProducto'])\n",
    "df_product.drop_duplicates(inplace=True)\n",
    "df_product.to_parquet('tmp/product_map.parquet')"
   ]
  },
  {
   "cell_type": "code",
   "execution_count": 9,
   "metadata": {},
   "outputs": [],
   "source": [
    "def label_df(df):\n",
    "    df = df.merge(df_geo[['Agencia_ID', 'geo_lbl']], how='left', on='Agencia_ID')\n",
    "    df = df.merge(df_client[['Cliente_ID', 'client_lbl']], how='left', on='Cliente_ID')\n",
    "    df = df.merge(df_product[['Producto_ID', 'product_lbl']], how='left', on='Producto_ID')\n",
    "    df.drop(['Agencia_ID', 'Cliente_ID', 'Producto_ID'], axis=1, inplace=True)\n",
    "    df.drop_duplicates(inplace=True)\n",
    "    df.sort_values(by=['client_lbl', 'product_lbl', 'geo_lbl', 'Semana'], inplace=True)\n",
    "    return df"
   ]
  },
  {
   "cell_type": "code",
   "execution_count": 10,
   "metadata": {},
   "outputs": [],
   "source": [
    "# df_test = pd.read_csv(data_path/'test.csv')\n",
    "# df_test.to_parquet('tmp/test_raw.parquet')\n",
    "df_test.read_parquet('tmp/test_raw.parquet')"
   ]
  },
  {
   "cell_type": "code",
   "execution_count": 11,
   "metadata": {},
   "outputs": [],
   "source": [
    "df_test = label_df(df_test)\n",
    "df_test = df_test.astype(dtype={'Semana': np.uint8,\n",
    "                                  'Canal_ID': np.uint8,\n",
    "                                  'Ruta_SAK': np.uint16,\n",
    "                                  'geo_lbl': np.uint16,\n",
    "                                  'client_lbl': np.uint32,\n",
    "                                  'product_lbl': np.uint16})\n",
    "df_test.to_parquet('tmp/test_labeled.parquet')"
   ]
  },
  {
   "cell_type": "code",
   "execution_count": 12,
   "metadata": {},
   "outputs": [],
   "source": [
    "# df_train = pd.read_csv(data_path/'train.csv')\n",
    "# df_train.to_parquet('tmp/train_raw.parquet')\n",
    "df_train.read_parquet('tmp/train_raw.parquet')"
   ]
  },
  {
   "cell_type": "code",
   "execution_count": 13,
   "metadata": {},
   "outputs": [],
   "source": [
    "df_train = label_df(df_train)\n",
    "df_train = df_train.astype(dtype={'Semana': np.uint8,\n",
    "                                  'Canal_ID': np.uint8,\n",
    "                                  'Ruta_SAK': np.uint16,\n",
    "                                  'Venta_uni_hoy': np.uint16,\n",
    "                                  'Venta_hoy': np.float32,\n",
    "                                  'Dev_uni_proxima': np.uint16,\n",
    "                                  'Dev_proxima': np.float32,\n",
    "                                  'Demanda_uni_equil': np.uint16,\n",
    "                                  'geo_lbl': np.uint16,\n",
    "                                  'client_lbl': np.uint32,\n",
    "                                  'product_lbl': np.uint16})\n",
    "df_train.to_parquet('tmp/train_labeled.parquet')"
   ]
  },
  {
   "cell_type": "code",
   "execution_count": 14,
   "metadata": {},
   "outputs": [],
   "source": [
    "df_train = df_train.sample(frac=0.1).reset_index(drop=True)\n",
    "df_train.to_parquet('tmp/train_small.parquet')"
   ]
  },
  {
   "cell_type": "code",
   "execution_count": 15,
   "metadata": {},
   "outputs": [
    {
     "data": {
      "text/html": [
       "<div>\n",
       "<style scoped>\n",
       "    .dataframe tbody tr th:only-of-type {\n",
       "        vertical-align: middle;\n",
       "    }\n",
       "\n",
       "    .dataframe tbody tr th {\n",
       "        vertical-align: top;\n",
       "    }\n",
       "\n",
       "    .dataframe thead th {\n",
       "        text-align: right;\n",
       "    }\n",
       "</style>\n",
       "<table border=\"1\" class=\"dataframe\">\n",
       "  <thead>\n",
       "    <tr style=\"text-align: right;\">\n",
       "      <th></th>\n",
       "      <th>Semana</th>\n",
       "      <th>Canal_ID</th>\n",
       "      <th>Ruta_SAK</th>\n",
       "      <th>Venta_uni_hoy</th>\n",
       "      <th>Venta_hoy</th>\n",
       "      <th>Dev_uni_proxima</th>\n",
       "      <th>Dev_proxima</th>\n",
       "      <th>Demanda_uni_equil</th>\n",
       "      <th>geo_lbl</th>\n",
       "      <th>client_lbl</th>\n",
       "      <th>product_lbl</th>\n",
       "    </tr>\n",
       "  </thead>\n",
       "  <tbody>\n",
       "    <tr>\n",
       "      <th>0</th>\n",
       "      <td>4</td>\n",
       "      <td>11</td>\n",
       "      <td>3913</td>\n",
       "      <td>4</td>\n",
       "      <td>41.919998</td>\n",
       "      <td>0</td>\n",
       "      <td>0.000000</td>\n",
       "      <td>4</td>\n",
       "      <td>162</td>\n",
       "      <td>92721</td>\n",
       "      <td>591</td>\n",
       "    </tr>\n",
       "    <tr>\n",
       "      <th>1</th>\n",
       "      <td>4</td>\n",
       "      <td>1</td>\n",
       "      <td>2105</td>\n",
       "      <td>2</td>\n",
       "      <td>23.059999</td>\n",
       "      <td>0</td>\n",
       "      <td>0.000000</td>\n",
       "      <td>2</td>\n",
       "      <td>11</td>\n",
       "      <td>230616</td>\n",
       "      <td>1806</td>\n",
       "    </tr>\n",
       "    <tr>\n",
       "      <th>2</th>\n",
       "      <td>6</td>\n",
       "      <td>1</td>\n",
       "      <td>1206</td>\n",
       "      <td>5</td>\n",
       "      <td>44.599998</td>\n",
       "      <td>0</td>\n",
       "      <td>0.000000</td>\n",
       "      <td>5</td>\n",
       "      <td>78</td>\n",
       "      <td>78833</td>\n",
       "      <td>1551</td>\n",
       "    </tr>\n",
       "    <tr>\n",
       "      <th>3</th>\n",
       "      <td>5</td>\n",
       "      <td>1</td>\n",
       "      <td>2811</td>\n",
       "      <td>10</td>\n",
       "      <td>52.799999</td>\n",
       "      <td>13</td>\n",
       "      <td>68.639999</td>\n",
       "      <td>0</td>\n",
       "      <td>79</td>\n",
       "      <td>230616</td>\n",
       "      <td>1008</td>\n",
       "    </tr>\n",
       "    <tr>\n",
       "      <th>4</th>\n",
       "      <td>6</td>\n",
       "      <td>1</td>\n",
       "      <td>1131</td>\n",
       "      <td>2</td>\n",
       "      <td>13.540000</td>\n",
       "      <td>0</td>\n",
       "      <td>0.000000</td>\n",
       "      <td>2</td>\n",
       "      <td>229</td>\n",
       "      <td>206884</td>\n",
       "      <td>603</td>\n",
       "    </tr>\n",
       "  </tbody>\n",
       "</table>\n",
       "</div>"
      ],
      "text/plain": [
       "   Semana  Canal_ID  Ruta_SAK  Venta_uni_hoy  Venta_hoy  Dev_uni_proxima  \\\n",
       "0       4        11      3913              4  41.919998                0   \n",
       "1       4         1      2105              2  23.059999                0   \n",
       "2       6         1      1206              5  44.599998                0   \n",
       "3       5         1      2811             10  52.799999               13   \n",
       "4       6         1      1131              2  13.540000                0   \n",
       "\n",
       "   Dev_proxima  Demanda_uni_equil  geo_lbl  client_lbl  product_lbl  \n",
       "0     0.000000                  4      162       92721          591  \n",
       "1     0.000000                  2       11      230616         1806  \n",
       "2     0.000000                  5       78       78833         1551  \n",
       "3    68.639999                  0       79      230616         1008  \n",
       "4     0.000000                  2      229      206884          603  "
      ]
     },
     "execution_count": 15,
     "metadata": {},
     "output_type": "execute_result"
    }
   ],
   "source": [
    "df_train.head()"
   ]
  }
 ],
 "metadata": {
  "kernelspec": {
   "display_name": "Python 3",
   "language": "python",
   "name": "python3"
  },
  "language_info": {
   "codemirror_mode": {
    "name": "ipython",
    "version": 3
   },
   "file_extension": ".py",
   "mimetype": "text/x-python",
   "name": "python",
   "nbconvert_exporter": "python",
   "pygments_lexer": "ipython3",
   "version": "3.7.3"
  }
 },
 "nbformat": 4,
 "nbformat_minor": 2
}

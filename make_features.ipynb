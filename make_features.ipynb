{
 "cells": [
  {
   "cell_type": "code",
   "execution_count": 1,
   "metadata": {},
   "outputs": [],
   "source": [
    "%reload_ext autoreload\n",
    "%autoreload 2\n",
    "%matplotlib inline"
   ]
  },
  {
   "cell_type": "code",
   "execution_count": 2,
   "metadata": {},
   "outputs": [],
   "source": [
    "from fastai.basics import *"
   ]
  },
  {
   "cell_type": "code",
   "execution_count": 3,
   "metadata": {},
   "outputs": [],
   "source": [
    "import dask.dataframe as dd"
   ]
  },
  {
   "cell_type": "code",
   "execution_count": 4,
   "metadata": {},
   "outputs": [],
   "source": [
    "# df = pd.read_feather('tmp/train_small.feather')\n",
    "df_l = dd.read_parquet('tmp/train_labeled.parquet')\n",
    "fn = 'tmp/train_feat.parquet'"
   ]
  },
  {
   "cell_type": "code",
   "execution_count": 5,
   "metadata": {},
   "outputs": [],
   "source": [
    "# df = dd.read_parquet('tmp/test_labeled.parquet')\n",
    "# fn = 'tmp/test_feat.parquet'"
   ]
  },
  {
   "cell_type": "code",
   "execution_count": 6,
   "metadata": {},
   "outputs": [],
   "source": [
    "# convert everything to smallest data type\n",
    "# df.max()"
   ]
  },
  {
   "cell_type": "code",
   "execution_count": 7,
   "metadata": {},
   "outputs": [],
   "source": [
    "# df = df.astype(dtype={'Semana': np.uint8,\n",
    "#                       'Canal_ID': np.uint8,\n",
    "#                       'Ruta_SAK': np.uint16,\n",
    "#                       'Venta_uni_hoy': np.uint16,\n",
    "#                       'Venta_hoy': np.float32,\n",
    "#                       'Dev_uni_proxima': np.uint16,\n",
    "#                       'Dev_proxima': np.float32,\n",
    "#                       'Demanda_uni_equil': np.uint16,\n",
    "#                       'geo_lbl': np.uint16,\n",
    "#                       'client_lbl': np.uint32,\n",
    "#                       'product_lbl': np.uint16})\n",
    "# df = df.to_sparse()"
   ]
  },
  {
   "cell_type": "code",
   "execution_count": 8,
   "metadata": {},
   "outputs": [],
   "source": [
    "key_cols = ['client_lbl', 'product_lbl', 'geo_lbl', 'Semana']\n",
    "data_cols = ['Venta_uni_hoy', 'Venta_hoy', 'Dev_uni_proxima', 'Dev_proxima', 'sem_diff']\n",
    "other_cols = ['Demanda_uni_equil', 'Canal_ID', 'Ruta_SAK']"
   ]
  },
  {
   "cell_type": "code",
   "execution_count": 9,
   "metadata": {},
   "outputs": [],
   "source": [
    "df_r = df_l.copy()\n",
    "\n",
    "df_r = df_r.assign(sem_diff = 1)\n",
    "df_r = df_r[key_cols+data_cols]\n",
    "\n",
    "df_r['Semana'] = df_r['Semana'] + 1\n",
    "df_r = df_r[df_r['Semana'] < 10]"
   ]
  },
  {
   "cell_type": "code",
   "execution_count": 10,
   "metadata": {},
   "outputs": [],
   "source": [
    "# ind_l = df_l['Semana'] > 3\n",
    "# ind_r = df_r['Semana'] < 10\n",
    "\n",
    "df_l = df_l[other_cols+key_cols]\n",
    "df_l = df_l[df_l['Semana'] > 4] \n",
    "\n",
    "df = (df_l.merge(df_r, \n",
    "             how='left',\n",
    "             on=key_cols, \n",
    "             suffixes=('_0', '_1')))"
   ]
  },
  {
   "cell_type": "code",
   "execution_count": 11,
   "metadata": {},
   "outputs": [],
   "source": [
    "df_r['Semana'] = df_r['Semana'] + 1\n",
    "df_r['sem_diff'] = 2\n",
    "df_r = df_r[df_r['Semana'] < 10]"
   ]
  },
  {
   "cell_type": "code",
   "execution_count": 12,
   "metadata": {},
   "outputs": [],
   "source": [
    "# ind_l = df_l['Semana'] > 4\n",
    "# ind_r = df_r['Semana'] < 10\n",
    "\n",
    "df_l = df_l[df_l['Semana'] > 5] \n",
    "df = df.append(df_l.merge(df_r, \n",
    "                      how='left',\n",
    "                      on=key_cols, \n",
    "                      suffixes=('_0', '_1')))"
   ]
  },
  {
   "cell_type": "code",
   "execution_count": null,
   "metadata": {},
   "outputs": [],
   "source": [
    "df = df.compute()\n",
    "df.to_parquet(fn)"
   ]
  },
  {
   "cell_type": "markdown",
   "metadata": {},
   "source": [
    "## test"
   ]
  },
  {
   "cell_type": "code",
   "execution_count": null,
   "metadata": {},
   "outputs": [],
   "source": [
    "df_t = dd.read_parquet('tmp/test_labeled.parquet')\n",
    "fn = 'tmp/test_feat.parquet'"
   ]
  },
  {
   "cell_type": "code",
   "execution_count": null,
   "metadata": {},
   "outputs": [],
   "source": [
    "key_cols = ['client_lbl', 'product_lbl', 'geo_lbl', 'Semana']\n",
    "data_cols = ['Venta_uni_hoy', 'Venta_hoy', 'Dev_uni_proxima', 'Dev_proxima', 'sem_diff']\n",
    "other_cols = ['Canal_ID', 'Ruta_SAK']"
   ]
  },
  {
   "cell_type": "code",
   "execution_count": null,
   "metadata": {},
   "outputs": [],
   "source": [
    "df_r = dd.read_parquet('tmp/train_labeled.parquet')\n",
    "\n",
    "df_r = df_r.assign(sem_diff = 1)\n",
    "df_r = df_r[key_cols+data_cols]\n",
    "\n",
    "df_r = df_r[df_r['Semana'] == 9]\n",
    "df_r['Semana'] = df_r['Semana'] + 1"
   ]
  },
  {
   "cell_type": "code",
   "execution_count": null,
   "metadata": {},
   "outputs": [],
   "source": [
    "# ind_l = df_l['Semana'] == 10\n",
    "\n",
    "df_l = df_t.loc[df_l['Semana'] == 10, other_cols+key_cols]\n",
    "\n",
    "df = (df_l\n",
    "      .merge(df_r, \n",
    "             how='left',\n",
    "             on=key_cols, \n",
    "             suffixes=('_0', '_1')))"
   ]
  },
  {
   "cell_type": "code",
   "execution_count": null,
   "metadata": {},
   "outputs": [],
   "source": [
    "df_r['Semana'] = df_r['Semana'] + 1\n",
    "df_r['sem_diff'] = 2"
   ]
  },
  {
   "cell_type": "code",
   "execution_count": null,
   "metadata": {},
   "outputs": [],
   "source": [
    "# ind_l = df_l['Semana'] == 11\n",
    "\n",
    "df_l = df_t.loc[df['Semana'] == 11, other_cols+key_cols]\n",
    "\n",
    "df = df.append(df_l\n",
    "               .merge(df_r, \n",
    "                      how='left',\n",
    "                      on=key_cols, \n",
    "                      suffixes=('_0', '_1')))"
   ]
  },
  {
   "cell_type": "code",
   "execution_count": null,
   "metadata": {},
   "outputs": [],
   "source": [
    "df = df.compute()\n",
    "df.to_parquet(fn)"
   ]
  },
  {
   "cell_type": "code",
   "execution_count": null,
   "metadata": {},
   "outputs": [],
   "source": []
  }
 ],
 "metadata": {
  "kernelspec": {
   "display_name": "Python 3",
   "language": "python",
   "name": "python3"
  },
  "language_info": {
   "codemirror_mode": {
    "name": "ipython",
    "version": 3
   },
   "file_extension": ".py",
   "mimetype": "text/x-python",
   "name": "python",
   "nbconvert_exporter": "python",
   "pygments_lexer": "ipython3",
   "version": "3.7.3"
  }
 },
 "nbformat": 4,
 "nbformat_minor": 2
}

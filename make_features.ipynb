{
 "cells": [
  {
   "cell_type": "code",
   "execution_count": null,
   "metadata": {},
   "outputs": [],
   "source": [
    "%reload_ext autoreload\n",
    "%autoreload 2\n",
    "%matplotlib inline"
   ]
  },
  {
   "cell_type": "code",
   "execution_count": null,
   "metadata": {},
   "outputs": [],
   "source": [
    "from fastai.basics import *"
   ]
  },
  {
   "cell_type": "code",
   "execution_count": null,
   "metadata": {},
   "outputs": [],
   "source": [
    "import dask.dataframe as dd"
   ]
  },
  {
   "cell_type": "code",
   "execution_count": null,
   "metadata": {},
   "outputs": [],
   "source": [
    "# df = pd.read_feather('tmp/train_small.feather')\n",
    "df_l = dd.read_parquet('tmp/train_labeled.parquet')\n",
    "fn = 'tmp/train_feat.parquet'"
   ]
  },
  {
   "cell_type": "code",
   "execution_count": null,
   "metadata": {},
   "outputs": [],
   "source": [
    "# df = dd.read_parquet('tmp/test_labeled.parquet')\n",
    "# fn = 'tmp/test_feat.parquet'"
   ]
  },
  {
   "cell_type": "code",
   "execution_count": null,
   "metadata": {},
   "outputs": [],
   "source": [
    "# convert everything to smallest data type\n",
    "# df.max()"
   ]
  },
  {
   "cell_type": "code",
   "execution_count": null,
   "metadata": {},
   "outputs": [],
   "source": [
    "# df = df.astype(dtype={'Semana': np.uint8,\n",
    "#                       'Canal_ID': np.uint8,\n",
    "#                       'Ruta_SAK': np.uint16,\n",
    "#                       'Venta_uni_hoy': np.uint16,\n",
    "#                       'Venta_hoy': np.float32,\n",
    "#                       'Dev_uni_proxima': np.uint16,\n",
    "#                       'Dev_proxima': np.float32,\n",
    "#                       'Demanda_uni_equil': np.uint16,\n",
    "#                       'geo_lbl': np.uint16,\n",
    "#                       'client_lbl': np.uint32,\n",
    "#                       'product_lbl': np.uint16})\n",
    "# df = df.to_sparse()"
   ]
  },
  {
   "cell_type": "code",
   "execution_count": null,
   "metadata": {},
   "outputs": [],
   "source": [
    "key_cols = ['client_lbl', 'product_lbl', 'geo_lbl', 'Semana']\n",
    "data_cols = ['Venta_uni_hoy', 'Venta_hoy', 'Dev_uni_proxima', 'Dev_proxima', 'sem_diff']\n",
    "other_cols = ['Demanda_uni_equil', 'Canal_ID', 'Ruta_SAK']"
   ]
  },
  {
   "cell_type": "code",
   "execution_count": null,
   "metadata": {},
   "outputs": [],
   "source": [
    "df_r = df_l.copy()\n",
    "df_r['Semana'] = df_r['Semana'] + 1\n",
    "df_r['sem_diff'] = 1"
   ]
  },
  {
   "cell_type": "code",
   "execution_count": null,
   "metadata": {},
   "outputs": [],
   "source": [
    "# ind_l = df_l['Semana'] > 3\n",
    "# ind_r = df_r['Semana'] < 10\n",
    "\n",
    "df = (df_l.loc[df_l['Semana'] > 3, other_cols+key_cols]\n",
    "      .merge(df_r.loc[df_r['Semana'] < 10, key_cols+data_cols], \n",
    "             how='left',\n",
    "             on=key_cols, \n",
    "             suffixes=('_0', '_1')))"
   ]
  },
  {
   "cell_type": "code",
   "execution_count": null,
   "metadata": {},
   "outputs": [],
   "source": [
    "df_r['Semana'] = df_r['Semana'] + 1\n",
    "df_r['sem_diff'] = 2"
   ]
  },
  {
   "cell_type": "code",
   "execution_count": null,
   "metadata": {},
   "outputs": [],
   "source": [
    "# ind_l = df_l['Semana'] > 4\n",
    "# ind_r = df_r['Semana'] < 10\n",
    "\n",
    "df = df.append(df_l.loc[df_l['Semana'] > 4, other_cols+key_cols]\n",
    "               .merge(df_r.loc[df_r['Semana'] < 10, key_cols+data_cols], \n",
    "                      how='left',\n",
    "                      on=key_cols, \n",
    "                      suffixes=('_0', '_1')))"
   ]
  },
  {
   "cell_type": "code",
   "execution_count": null,
   "metadata": {},
   "outputs": [],
   "source": [
    "df.to_parquet(fn)"
   ]
  },
  {
   "cell_type": "markdown",
   "metadata": {},
   "source": [
    "## test"
   ]
  },
  {
   "cell_type": "code",
   "execution_count": null,
   "metadata": {},
   "outputs": [],
   "source": [
    "df_l = dd.read_parquet('tmp/test_labeled.parquet')\n",
    "fn = 'tmp/test_feat.parquet'"
   ]
  },
  {
   "cell_type": "code",
   "execution_count": null,
   "metadata": {},
   "outputs": [],
   "source": [
    "key_cols = ['client_lbl', 'product_lbl', 'geo_lbl', 'Semana']\n",
    "data_cols = ['Venta_uni_hoy', 'Venta_hoy', 'Dev_uni_proxima', 'Dev_proxima', 'sem_diff']\n",
    "other_cols = ['Canal_ID', 'Ruta_SAK']"
   ]
  },
  {
   "cell_type": "code",
   "execution_count": null,
   "metadata": {},
   "outputs": [],
   "source": [
    "df_r = df.copy()\n",
    "df_r = df_r[df_r['Semana'] == 9]\n",
    "df_r['Semana'] = df_r['Semana'] + 1\n",
    "df_r['sem_diff'] = 1"
   ]
  },
  {
   "cell_type": "code",
   "execution_count": null,
   "metadata": {},
   "outputs": [],
   "source": [
    "# ind_l = df_l['Semana'] == 10\n",
    "\n",
    "df = (df_l.loc[df_l['Semana'] == 10, other_cols+key_cols]\n",
    "      .merge(df_r.loc[ind_r, key_cols+data_cols], \n",
    "             how='left',\n",
    "             on=key_cols, \n",
    "             suffixes=('_0', '_1')))"
   ]
  },
  {
   "cell_type": "code",
   "execution_count": null,
   "metadata": {},
   "outputs": [],
   "source": [
    "df_r['Semana'] = df_r['Semana'] + 1\n",
    "df_r['sem_diff'] = 2"
   ]
  },
  {
   "cell_type": "code",
   "execution_count": null,
   "metadata": {},
   "outputs": [],
   "source": [
    "# ind_l = df_l['Semana'] == 11\n",
    "\n",
    "df = df.append(df_l.loc[df_l['Semana'] == 11, other_cols+key_cols]\n",
    "               .merge(df_r.loc[ind_r, key_cols+data_cols], \n",
    "                      how='left',\n",
    "                      on=key_cols, \n",
    "                      suffixes=('_0', '_1')))"
   ]
  },
  {
   "cell_type": "code",
   "execution_count": null,
   "metadata": {},
   "outputs": [],
   "source": [
    "df.to_parquet(fn)"
   ]
  }
 ],
 "metadata": {
  "kernelspec": {
   "display_name": "Python 3",
   "language": "python",
   "name": "python3"
  },
  "language_info": {
   "codemirror_mode": {
    "name": "ipython",
    "version": 3
   },
   "file_extension": ".py",
   "mimetype": "text/x-python",
   "name": "python",
   "nbconvert_exporter": "python",
   "pygments_lexer": "ipython3",
   "version": "3.7.3"
  }
 },
 "nbformat": 4,
 "nbformat_minor": 2
}

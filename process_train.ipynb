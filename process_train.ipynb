{
 "cells": [
  {
   "cell_type": "markdown",
   "metadata": {},
   "source": [
    "\n",
    "improvements:\n",
    "\n",
    "* clean up the client names by finding and merging any that are actually the same client under different names\n",
    "* split out the mass and codes from the products"
   ]
  },
  {
   "cell_type": "code",
   "execution_count": 1,
   "metadata": {},
   "outputs": [],
   "source": [
    "from fastai.tabular import *\n",
    "from sklearn import preprocessing"
   ]
  },
  {
   "cell_type": "code",
   "execution_count": 2,
   "metadata": {},
   "outputs": [],
   "source": [
    "data_path = Path(\"/home/jupyter/data/bimbo\")"
   ]
  },
  {
   "cell_type": "code",
   "execution_count": 3,
   "metadata": {},
   "outputs": [
    {
     "data": {
      "text/plain": [
       "[PosixPath('/home/jupyter/data/bimbo/test.csv'),\n",
       " PosixPath('/home/jupyter/data/bimbo/zips'),\n",
       " PosixPath('/home/jupyter/data/bimbo/producto_tabla.csv'),\n",
       " PosixPath('/home/jupyter/data/bimbo/cliente_tabla.csv'),\n",
       " PosixPath('/home/jupyter/data/bimbo/sample_submission.csv'),\n",
       " PosixPath('/home/jupyter/data/bimbo/town_state.csv'),\n",
       " PosixPath('/home/jupyter/data/bimbo/train.csv')]"
      ]
     },
     "execution_count": 3,
     "metadata": {},
     "output_type": "execute_result"
    }
   ],
   "source": [
    "data_path.ls()"
   ]
  },
  {
   "cell_type": "code",
   "execution_count": 4,
   "metadata": {},
   "outputs": [],
   "source": [
    "df_geo = pd.read_csv(data_path/'town_state.csv')\n",
    "df_client = pd.read_csv(data_path/'cliente_tabla.csv')\n",
    "df_product = pd.read_csv(data_path/'producto_tabla.csv')\n",
    "\n",
    "os.makedirs('tmp', exist_ok=True)"
   ]
  },
  {
   "cell_type": "code",
   "execution_count": 5,
   "metadata": {},
   "outputs": [
    {
     "name": "stdout",
     "output_type": "stream",
     "text": [
      "reading feather\n"
     ]
    }
   ],
   "source": [
    "if os.path.isfile('tmp/train_raw'):\n",
    "    print(\"reading feather\")\n",
    "    df = pd.read_feather('tmp/train_raw')\n",
    "else:\n",
    "    print(\"reading train.csv\")\n",
    "    df = pd.read_csv(data_path/'train.csv')\n",
    "    df.to_feather('tmp/train_raw')"
   ]
  },
  {
   "cell_type": "code",
   "execution_count": 6,
   "metadata": {},
   "outputs": [
    {
     "data": {
      "text/html": [
       "<div>\n",
       "<style scoped>\n",
       "    .dataframe tbody tr th:only-of-type {\n",
       "        vertical-align: middle;\n",
       "    }\n",
       "\n",
       "    .dataframe tbody tr th {\n",
       "        vertical-align: top;\n",
       "    }\n",
       "\n",
       "    .dataframe thead th {\n",
       "        text-align: right;\n",
       "    }\n",
       "</style>\n",
       "<table border=\"1\" class=\"dataframe\">\n",
       "  <thead>\n",
       "    <tr style=\"text-align: right;\">\n",
       "      <th></th>\n",
       "      <th>Semana</th>\n",
       "      <th>Agencia_ID</th>\n",
       "      <th>Canal_ID</th>\n",
       "      <th>Ruta_SAK</th>\n",
       "      <th>Cliente_ID</th>\n",
       "      <th>Producto_ID</th>\n",
       "      <th>Venta_uni_hoy</th>\n",
       "      <th>Venta_hoy</th>\n",
       "      <th>Dev_uni_proxima</th>\n",
       "      <th>Dev_proxima</th>\n",
       "      <th>Demanda_uni_equil</th>\n",
       "    </tr>\n",
       "  </thead>\n",
       "  <tbody>\n",
       "    <tr>\n",
       "      <th>73125336</th>\n",
       "      <td>9</td>\n",
       "      <td>3212</td>\n",
       "      <td>1</td>\n",
       "      <td>1429</td>\n",
       "      <td>222526</td>\n",
       "      <td>41843</td>\n",
       "      <td>8</td>\n",
       "      <td>54.88</td>\n",
       "      <td>0</td>\n",
       "      <td>0.00</td>\n",
       "      <td>8</td>\n",
       "    </tr>\n",
       "    <tr>\n",
       "      <th>38517234</th>\n",
       "      <td>6</td>\n",
       "      <td>1636</td>\n",
       "      <td>1</td>\n",
       "      <td>1201</td>\n",
       "      <td>290871</td>\n",
       "      <td>35651</td>\n",
       "      <td>2</td>\n",
       "      <td>15.00</td>\n",
       "      <td>0</td>\n",
       "      <td>0.00</td>\n",
       "      <td>2</td>\n",
       "    </tr>\n",
       "    <tr>\n",
       "      <th>19719490</th>\n",
       "      <td>4</td>\n",
       "      <td>2055</td>\n",
       "      <td>1</td>\n",
       "      <td>1051</td>\n",
       "      <td>477784</td>\n",
       "      <td>1150</td>\n",
       "      <td>6</td>\n",
       "      <td>83.76</td>\n",
       "      <td>0</td>\n",
       "      <td>0.00</td>\n",
       "      <td>6</td>\n",
       "    </tr>\n",
       "    <tr>\n",
       "      <th>19522280</th>\n",
       "      <td>4</td>\n",
       "      <td>2038</td>\n",
       "      <td>1</td>\n",
       "      <td>1111</td>\n",
       "      <td>47639</td>\n",
       "      <td>1238</td>\n",
       "      <td>2</td>\n",
       "      <td>19.66</td>\n",
       "      <td>0</td>\n",
       "      <td>0.00</td>\n",
       "      <td>2</td>\n",
       "    </tr>\n",
       "    <tr>\n",
       "      <th>4811752</th>\n",
       "      <td>3</td>\n",
       "      <td>1470</td>\n",
       "      <td>1</td>\n",
       "      <td>1152</td>\n",
       "      <td>1133179</td>\n",
       "      <td>48579</td>\n",
       "      <td>5</td>\n",
       "      <td>20.30</td>\n",
       "      <td>0</td>\n",
       "      <td>0.00</td>\n",
       "      <td>5</td>\n",
       "    </tr>\n",
       "    <tr>\n",
       "      <th>12453393</th>\n",
       "      <td>4</td>\n",
       "      <td>1153</td>\n",
       "      <td>1</td>\n",
       "      <td>1003</td>\n",
       "      <td>1566486</td>\n",
       "      <td>73</td>\n",
       "      <td>1</td>\n",
       "      <td>21.32</td>\n",
       "      <td>0</td>\n",
       "      <td>0.00</td>\n",
       "      <td>1</td>\n",
       "    </tr>\n",
       "    <tr>\n",
       "      <th>57356933</th>\n",
       "      <td>8</td>\n",
       "      <td>1423</td>\n",
       "      <td>1</td>\n",
       "      <td>2017</td>\n",
       "      <td>871884</td>\n",
       "      <td>35119</td>\n",
       "      <td>2</td>\n",
       "      <td>26.48</td>\n",
       "      <td>0</td>\n",
       "      <td>0.00</td>\n",
       "      <td>2</td>\n",
       "    </tr>\n",
       "    <tr>\n",
       "      <th>65731825</th>\n",
       "      <td>9</td>\n",
       "      <td>1224</td>\n",
       "      <td>1</td>\n",
       "      <td>1605</td>\n",
       "      <td>1736876</td>\n",
       "      <td>303</td>\n",
       "      <td>1</td>\n",
       "      <td>4.54</td>\n",
       "      <td>0</td>\n",
       "      <td>0.00</td>\n",
       "      <td>1</td>\n",
       "    </tr>\n",
       "    <tr>\n",
       "      <th>8685732</th>\n",
       "      <td>3</td>\n",
       "      <td>2045</td>\n",
       "      <td>1</td>\n",
       "      <td>5010</td>\n",
       "      <td>7781743</td>\n",
       "      <td>31720</td>\n",
       "      <td>2</td>\n",
       "      <td>16.76</td>\n",
       "      <td>1</td>\n",
       "      <td>8.38</td>\n",
       "      <td>1</td>\n",
       "    </tr>\n",
       "    <tr>\n",
       "      <th>11522293</th>\n",
       "      <td>4</td>\n",
       "      <td>1118</td>\n",
       "      <td>1</td>\n",
       "      <td>1402</td>\n",
       "      <td>1892685</td>\n",
       "      <td>1220</td>\n",
       "      <td>2</td>\n",
       "      <td>15.28</td>\n",
       "      <td>0</td>\n",
       "      <td>0.00</td>\n",
       "      <td>2</td>\n",
       "    </tr>\n",
       "  </tbody>\n",
       "</table>\n",
       "</div>"
      ],
      "text/plain": [
       "          Semana  Agencia_ID  Canal_ID  Ruta_SAK  Cliente_ID  Producto_ID  \\\n",
       "73125336       9        3212         1      1429      222526        41843   \n",
       "38517234       6        1636         1      1201      290871        35651   \n",
       "19719490       4        2055         1      1051      477784         1150   \n",
       "19522280       4        2038         1      1111       47639         1238   \n",
       "4811752        3        1470         1      1152     1133179        48579   \n",
       "12453393       4        1153         1      1003     1566486           73   \n",
       "57356933       8        1423         1      2017      871884        35119   \n",
       "65731825       9        1224         1      1605     1736876          303   \n",
       "8685732        3        2045         1      5010     7781743        31720   \n",
       "11522293       4        1118         1      1402     1892685         1220   \n",
       "\n",
       "          Venta_uni_hoy  Venta_hoy  Dev_uni_proxima  Dev_proxima  \\\n",
       "73125336              8      54.88                0         0.00   \n",
       "38517234              2      15.00                0         0.00   \n",
       "19719490              6      83.76                0         0.00   \n",
       "19522280              2      19.66                0         0.00   \n",
       "4811752               5      20.30                0         0.00   \n",
       "12453393              1      21.32                0         0.00   \n",
       "57356933              2      26.48                0         0.00   \n",
       "65731825              1       4.54                0         0.00   \n",
       "8685732               2      16.76                1         8.38   \n",
       "11522293              2      15.28                0         0.00   \n",
       "\n",
       "          Demanda_uni_equil  \n",
       "73125336                  8  \n",
       "38517234                  2  \n",
       "19719490                  6  \n",
       "19522280                  2  \n",
       "4811752                   5  \n",
       "12453393                  1  \n",
       "57356933                  2  \n",
       "65731825                  1  \n",
       "8685732                   1  \n",
       "11522293                  2  "
      ]
     },
     "execution_count": 6,
     "metadata": {},
     "output_type": "execute_result"
    }
   ],
   "source": [
    "df.sample(10)"
   ]
  },
  {
   "cell_type": "code",
   "execution_count": 7,
   "metadata": {},
   "outputs": [
    {
     "data": {
      "text/html": [
       "<div>\n",
       "<style scoped>\n",
       "    .dataframe tbody tr th:only-of-type {\n",
       "        vertical-align: middle;\n",
       "    }\n",
       "\n",
       "    .dataframe tbody tr th {\n",
       "        vertical-align: top;\n",
       "    }\n",
       "\n",
       "    .dataframe thead th {\n",
       "        text-align: right;\n",
       "    }\n",
       "</style>\n",
       "<table border=\"1\" class=\"dataframe\">\n",
       "  <thead>\n",
       "    <tr style=\"text-align: right;\">\n",
       "      <th></th>\n",
       "      <th>Producto_ID</th>\n",
       "      <th>NombreProducto</th>\n",
       "    </tr>\n",
       "  </thead>\n",
       "  <tbody>\n",
       "    <tr>\n",
       "      <th>558</th>\n",
       "      <td>31123</td>\n",
       "      <td>Lonchera Plastica Baul 284g CU GBI 31123</td>\n",
       "    </tr>\n",
       "    <tr>\n",
       "      <th>1059</th>\n",
       "      <td>34044</td>\n",
       "      <td>Bigotes Chocolate 60g Prom TR 34044</td>\n",
       "    </tr>\n",
       "    <tr>\n",
       "      <th>102</th>\n",
       "      <td>1198</td>\n",
       "      <td>Tostado 2pq 420g BIM 1198</td>\n",
       "    </tr>\n",
       "    <tr>\n",
       "      <th>455</th>\n",
       "      <td>30505</td>\n",
       "      <td>Tortillinas 22p 570g Prom TR 30505</td>\n",
       "    </tr>\n",
       "    <tr>\n",
       "      <th>1760</th>\n",
       "      <td>36944</td>\n",
       "      <td>Mini Milk Tarta Fresa 110g GBI 36944</td>\n",
       "    </tr>\n",
       "    <tr>\n",
       "      <th>591</th>\n",
       "      <td>31277</td>\n",
       "      <td>Rebanada 4p 110g BIM 31277</td>\n",
       "    </tr>\n",
       "    <tr>\n",
       "      <th>99</th>\n",
       "      <td>1182</td>\n",
       "      <td>Tostado 210g CU BIM 1182</td>\n",
       "    </tr>\n",
       "    <tr>\n",
       "      <th>610</th>\n",
       "      <td>31339</td>\n",
       "      <td>Lors 8p 74g SP TAB MLA 31339</td>\n",
       "    </tr>\n",
       "    <tr>\n",
       "      <th>977</th>\n",
       "      <td>33265</td>\n",
       "      <td>Charola Nito 15p 930g MTA BIM 33265</td>\n",
       "    </tr>\n",
       "    <tr>\n",
       "      <th>1066</th>\n",
       "      <td>34067</td>\n",
       "      <td>Lonchibox Prem Bco con Chile 90g LON 34067</td>\n",
       "    </tr>\n",
       "  </tbody>\n",
       "</table>\n",
       "</div>"
      ],
      "text/plain": [
       "      Producto_ID                              NombreProducto\n",
       "558         31123    Lonchera Plastica Baul 284g CU GBI 31123\n",
       "1059        34044         Bigotes Chocolate 60g Prom TR 34044\n",
       "102          1198                   Tostado 2pq 420g BIM 1198\n",
       "455         30505          Tortillinas 22p 570g Prom TR 30505\n",
       "1760        36944        Mini Milk Tarta Fresa 110g GBI 36944\n",
       "591         31277                  Rebanada 4p 110g BIM 31277\n",
       "99           1182                    Tostado 210g CU BIM 1182\n",
       "610         31339                Lors 8p 74g SP TAB MLA 31339\n",
       "977         33265         Charola Nito 15p 930g MTA BIM 33265\n",
       "1066        34067  Lonchibox Prem Bco con Chile 90g LON 34067"
      ]
     },
     "execution_count": 7,
     "metadata": {},
     "output_type": "execute_result"
    }
   ],
   "source": [
    "df_product.sample(10)"
   ]
  },
  {
   "cell_type": "code",
   "execution_count": 8,
   "metadata": {},
   "outputs": [
    {
     "data": {
      "text/html": [
       "<div>\n",
       "<style scoped>\n",
       "    .dataframe tbody tr th:only-of-type {\n",
       "        vertical-align: middle;\n",
       "    }\n",
       "\n",
       "    .dataframe tbody tr th {\n",
       "        vertical-align: top;\n",
       "    }\n",
       "\n",
       "    .dataframe thead th {\n",
       "        text-align: right;\n",
       "    }\n",
       "</style>\n",
       "<table border=\"1\" class=\"dataframe\">\n",
       "  <thead>\n",
       "    <tr style=\"text-align: right;\">\n",
       "      <th></th>\n",
       "      <th>Cliente_ID</th>\n",
       "      <th>NombreCliente</th>\n",
       "    </tr>\n",
       "  </thead>\n",
       "  <tbody>\n",
       "    <tr>\n",
       "      <th>193724</th>\n",
       "      <td>518114</td>\n",
       "      <td>DONA UVI</td>\n",
       "    </tr>\n",
       "    <tr>\n",
       "      <th>48397</th>\n",
       "      <td>116927</td>\n",
       "      <td>T V MEXIQUENSE</td>\n",
       "    </tr>\n",
       "    <tr>\n",
       "      <th>288890</th>\n",
       "      <td>951169</td>\n",
       "      <td>MIRIAM</td>\n",
       "    </tr>\n",
       "    <tr>\n",
       "      <th>871683</th>\n",
       "      <td>4710410</td>\n",
       "      <td>MANZUR</td>\n",
       "    </tr>\n",
       "    <tr>\n",
       "      <th>618847</th>\n",
       "      <td>2487387</td>\n",
       "      <td>MARIA</td>\n",
       "    </tr>\n",
       "    <tr>\n",
       "      <th>731076</th>\n",
       "      <td>4434807</td>\n",
       "      <td>NO IDENTIFICADO</td>\n",
       "    </tr>\n",
       "    <tr>\n",
       "      <th>320588</th>\n",
       "      <td>1111986</td>\n",
       "      <td>GUZMAN</td>\n",
       "    </tr>\n",
       "    <tr>\n",
       "      <th>39952</th>\n",
       "      <td>99226</td>\n",
       "      <td>ESC CBTA</td>\n",
       "    </tr>\n",
       "    <tr>\n",
       "      <th>584489</th>\n",
       "      <td>2371426</td>\n",
       "      <td>EDUARDO LOPEZ BARBA</td>\n",
       "    </tr>\n",
       "    <tr>\n",
       "      <th>429339</th>\n",
       "      <td>1703850</td>\n",
       "      <td>CITY TORTAS</td>\n",
       "    </tr>\n",
       "  </tbody>\n",
       "</table>\n",
       "</div>"
      ],
      "text/plain": [
       "        Cliente_ID        NombreCliente\n",
       "193724      518114             DONA UVI\n",
       "48397       116927       T V MEXIQUENSE\n",
       "288890      951169               MIRIAM\n",
       "871683     4710410               MANZUR\n",
       "618847     2487387                MARIA\n",
       "731076     4434807      NO IDENTIFICADO\n",
       "320588     1111986               GUZMAN\n",
       "39952        99226             ESC CBTA\n",
       "584489     2371426  EDUARDO LOPEZ BARBA\n",
       "429339     1703850          CITY TORTAS"
      ]
     },
     "execution_count": 8,
     "metadata": {},
     "output_type": "execute_result"
    }
   ],
   "source": [
    "df_client.sample(10)"
   ]
  },
  {
   "cell_type": "code",
   "execution_count": 9,
   "metadata": {},
   "outputs": [
    {
     "data": {
      "text/html": [
       "<div>\n",
       "<style scoped>\n",
       "    .dataframe tbody tr th:only-of-type {\n",
       "        vertical-align: middle;\n",
       "    }\n",
       "\n",
       "    .dataframe tbody tr th {\n",
       "        vertical-align: top;\n",
       "    }\n",
       "\n",
       "    .dataframe thead th {\n",
       "        text-align: right;\n",
       "    }\n",
       "</style>\n",
       "<table border=\"1\" class=\"dataframe\">\n",
       "  <thead>\n",
       "    <tr style=\"text-align: right;\">\n",
       "      <th></th>\n",
       "      <th>Agencia_ID</th>\n",
       "      <th>Town</th>\n",
       "      <th>State</th>\n",
       "    </tr>\n",
       "  </thead>\n",
       "  <tbody>\n",
       "    <tr>\n",
       "      <th>736</th>\n",
       "      <td>24619</td>\n",
       "      <td>2461 HIDALGO BIMBO</td>\n",
       "      <td>NUEVO LEÓN</td>\n",
       "    </tr>\n",
       "    <tr>\n",
       "      <th>85</th>\n",
       "      <td>1311</td>\n",
       "      <td>2273 SAN PEDRO</td>\n",
       "      <td>JALISCO</td>\n",
       "    </tr>\n",
       "    <tr>\n",
       "      <th>160</th>\n",
       "      <td>1448</td>\n",
       "      <td>2505 TORREON</td>\n",
       "      <td>COAHUILA</td>\n",
       "    </tr>\n",
       "    <tr>\n",
       "      <th>27</th>\n",
       "      <td>1152</td>\n",
       "      <td>2008 AG. LAGO FILT</td>\n",
       "      <td>MÉXICO, D.F.</td>\n",
       "    </tr>\n",
       "    <tr>\n",
       "      <th>190</th>\n",
       "      <td>1492</td>\n",
       "      <td>2468 MATAMOROS BIMBO</td>\n",
       "      <td>TAMAULIPAS</td>\n",
       "    </tr>\n",
       "    <tr>\n",
       "      <th>37</th>\n",
       "      <td>1168</td>\n",
       "      <td>2092 AG. SANTA CLARA AUTOSERVICIOS</td>\n",
       "      <td>ESTADO DE MÉXICO</td>\n",
       "    </tr>\n",
       "    <tr>\n",
       "      <th>534</th>\n",
       "      <td>4082</td>\n",
       "      <td>2493 MITRAS</td>\n",
       "      <td>NUEVO LEÓN</td>\n",
       "    </tr>\n",
       "    <tr>\n",
       "      <th>740</th>\n",
       "      <td>24679</td>\n",
       "      <td>2467 LINCOLN</td>\n",
       "      <td>NUEVO LEÓN</td>\n",
       "    </tr>\n",
       "    <tr>\n",
       "      <th>358</th>\n",
       "      <td>1997</td>\n",
       "      <td>2573 TIJUANA GATO BRONCO</td>\n",
       "      <td>BAJA CALIFORNIA NORTE</td>\n",
       "    </tr>\n",
       "    <tr>\n",
       "      <th>413</th>\n",
       "      <td>2086</td>\n",
       "      <td>2165 LEON SAN JUAN BOSCO</td>\n",
       "      <td>GUANAJUATO</td>\n",
       "    </tr>\n",
       "  </tbody>\n",
       "</table>\n",
       "</div>"
      ],
      "text/plain": [
       "     Agencia_ID                                Town                  State\n",
       "736       24619                  2461 HIDALGO BIMBO             NUEVO LEÓN\n",
       "85         1311                      2273 SAN PEDRO                JALISCO\n",
       "160        1448                        2505 TORREON               COAHUILA\n",
       "27         1152                  2008 AG. LAGO FILT           MÉXICO, D.F.\n",
       "190        1492                2468 MATAMOROS BIMBO             TAMAULIPAS\n",
       "37         1168  2092 AG. SANTA CLARA AUTOSERVICIOS       ESTADO DE MÉXICO\n",
       "534        4082                         2493 MITRAS             NUEVO LEÓN\n",
       "740       24679                        2467 LINCOLN             NUEVO LEÓN\n",
       "358        1997            2573 TIJUANA GATO BRONCO  BAJA CALIFORNIA NORTE\n",
       "413        2086            2165 LEON SAN JUAN BOSCO             GUANAJUATO"
      ]
     },
     "execution_count": 9,
     "metadata": {},
     "output_type": "execute_result"
    }
   ],
   "source": [
    "df_geo.sample(10)"
   ]
  },
  {
   "cell_type": "code",
   "execution_count": 10,
   "metadata": {},
   "outputs": [
    {
     "name": "stdout",
     "output_type": "stream",
     "text": [
      "261\n",
      "790\n"
     ]
    }
   ],
   "source": [
    "print(len((df_geo['Town'] + \", \" + df_geo['State']).unique()))\n",
    "print(len(df_geo))"
   ]
  },
  {
   "cell_type": "code",
   "execution_count": 11,
   "metadata": {},
   "outputs": [
    {
     "name": "stdout",
     "output_type": "stream",
     "text": [
      "311155\n",
      "935362\n"
     ]
    }
   ],
   "source": [
    "print(len(df_client['NombreCliente'].unique()))\n",
    "print(len(df_client))"
   ]
  },
  {
   "cell_type": "code",
   "execution_count": 12,
   "metadata": {},
   "outputs": [
    {
     "name": "stdout",
     "output_type": "stream",
     "text": [
      "2592\n",
      "2592\n"
     ]
    }
   ],
   "source": [
    "print(len(df_product['NombreProducto'].unique()))\n",
    "print(len(df_product))"
   ]
  },
  {
   "cell_type": "code",
   "execution_count": 13,
   "metadata": {},
   "outputs": [],
   "source": [
    "df_geo['geo'] = (df_geo['Town'] + \", \" + df_geo['State'])\n",
    "le_geo = preprocessing.LabelEncoder()\n",
    "df_geo['geo'] = le_geo.fit_transform(df_geo['geo'])\n",
    "df_geo.to_feather('tmp/geo_map')"
   ]
  },
  {
   "cell_type": "code",
   "execution_count": 14,
   "metadata": {},
   "outputs": [],
   "source": [
    "le_client = preprocessing.LabelEncoder()\n",
    "df_client['NombreCliente'] = le_client.fit_transform(df_client['NombreCliente'])\n",
    "df_client.to_feather('tmp/client_map')"
   ]
  },
  {
   "cell_type": "code",
   "execution_count": 15,
   "metadata": {},
   "outputs": [],
   "source": [
    "le_product = preprocessing.LabelEncoder()\n",
    "df_product['NombreProducto'] = le_product.fit_transform(df_product['NombreProducto'])\n",
    "df_product.to_feather('tmp/product_map')"
   ]
  },
  {
   "cell_type": "code",
   "execution_count": 16,
   "metadata": {},
   "outputs": [
    {
     "name": "stdout",
     "output_type": "stream",
     "text": [
      "merge raw data\n"
     ]
    }
   ],
   "source": [
    "if os.path.isfile('tmp/df_merge'):\n",
    "    print(\"read feather\")\n",
    "    df = pd.read_feather('tmp/df_merge')\n",
    "else:\n",
    "    print(\"merge raw data\")\n",
    "    df = (df.merge(df_geo[['Agencia_ID', 'geo']], how='left', on='Agencia_ID')\n",
    "          .merge(df_product, how='left', on='Producto_ID')\n",
    "          .merge(df_client, how='left', on='Cliente_ID')\n",
    "         )\n",
    "    df.to_feather('tmp/df_merge')"
   ]
  },
  {
   "cell_type": "code",
   "execution_count": 19,
   "metadata": {},
   "outputs": [
    {
     "data": {
      "text/plain": [
       "Semana                 int64\n",
       "Agencia_ID             int64\n",
       "Canal_ID               int64\n",
       "Ruta_SAK               int64\n",
       "Cliente_ID             int64\n",
       "Producto_ID            int64\n",
       "Venta_uni_hoy          int64\n",
       "Venta_hoy            float64\n",
       "Dev_uni_proxima        int64\n",
       "Dev_proxima          float64\n",
       "Demanda_uni_equil      int64\n",
       "geo                    int64\n",
       "NombreProducto         int64\n",
       "NombreCliente          int64\n",
       "dtype: object"
      ]
     },
     "execution_count": 19,
     "metadata": {},
     "output_type": "execute_result"
    }
   ],
   "source": [
    "df.dtypes"
   ]
  }
 ],
 "metadata": {
  "kernelspec": {
   "display_name": "Python 3",
   "language": "python",
   "name": "python3"
  },
  "language_info": {
   "codemirror_mode": {
    "name": "ipython",
    "version": 3
   },
   "file_extension": ".py",
   "mimetype": "text/x-python",
   "name": "python",
   "nbconvert_exporter": "python",
   "pygments_lexer": "ipython3",
   "version": "3.7.3"
  }
 },
 "nbformat": 4,
 "nbformat_minor": 2
}
